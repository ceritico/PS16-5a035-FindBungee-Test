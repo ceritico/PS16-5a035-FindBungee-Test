{
 "cells": [
  {
   "attachments": {},
   "cell_type": "markdown",
   "metadata": {},
   "source": [
    "Create a new Python application"
   ]
  },
  {
   "cell_type": "code",
   "execution_count": 5,
   "metadata": {},
   "outputs": [],
   "source": [
    "from azure.cognitiveservices.vision.customvision.prediction import CustomVisionPredictionClient\n",
    "from msrest.authentication import ApiKeyCredentials\n",
    "from matplotlib import pyplot as plt\n",
    "from PIL import Image, ImageDraw, ImageFont\n",
    "import numpy as np\n",
    "import os"
   ]
  },
  {
   "attachments": {},
   "cell_type": "markdown",
   "metadata": {},
   "source": [
    "Create variables for your resource's Azure endpoint and keys."
   ]
  },
  {
   "cell_type": "code",
   "execution_count": 6,
   "metadata": {},
   "outputs": [],
   "source": [
    "prediction_endpoint = \"https://ps165a035findbungee-prediction.cognitiveservices.azure.com\"\n",
    "prediction_key = \"BPvsLeIMUR7IaIyciEmi3YTOGyFVoAOh1L9kHWT9klFRS8U93qkvJQQJ99AJACi0881XJ3w3AAAIACOGAnrZ\"\n",
    "project_id = \"4c1f18f7-71d3-4e1e-8c99-a6562026c817\"\n",
    "model_name = \"Iteration1\""
   ]
  },
  {
   "attachments": {},
   "cell_type": "markdown",
   "metadata": {},
   "source": [
    "Authenticate the client"
   ]
  },
  {
   "cell_type": "code",
   "execution_count": 7,
   "metadata": {},
   "outputs": [],
   "source": [
    "credentials = ApiKeyCredentials(in_headers={\"Prediction-key\": prediction_key})\n",
    "predictor = CustomVisionPredictionClient(endpoint=prediction_endpoint, credentials=credentials)"
   ]
  },
  {
   "attachments": {},
   "cell_type": "markdown",
   "metadata": {},
   "source": [
    "Load image and get height, width and channels"
   ]
  },
  {
   "cell_type": "code",
   "execution_count": 10,
   "metadata": {},
   "outputs": [
    {
     "name": "stdout",
     "output_type": "stream",
     "text": [
      "Detecting objects in  ./data/test-1.png\n",
      "791\n",
      "1410\n",
      "3\n"
     ]
    }
   ],
   "source": [
    "# 테스트 이미지를 Codespace workspace에 추가한 후 image_file 변수로 지정 \n",
    "image_file = \"./data/test-1.png\"\n",
    "\n",
    "# 이미지 파일 이름 출력\n",
    "print('Detecting objects in ', image_file)\n",
    "\n",
    "# Python Imaging Library의 image open함수를 써서 테스트 이미지 파일 오픈 \n",
    "image = Image.open(image_file)\n",
    "\n",
    "# Numpy에서 이미지의 shape(높이, 폭, 채널) 읽기 \n",
    "h, w, ch = np.array(image).shape\n",
    "\n",
    "print(h)\n",
    "print(w)\n",
    "print(ch)"
   ]
  },
  {
   "attachments": {},
   "cell_type": "markdown",
   "metadata": {},
   "source": [
    "Detect objects in the test image"
   ]
  },
  {
   "cell_type": "code",
   "execution_count": 11,
   "metadata": {},
   "outputs": [
    {
     "name": "stdout",
     "output_type": "stream",
     "text": [
      "\tBungee: 99.51% bbox.left = 0.12, bbox.top = 0.37, bbox.width = 0.56, bbox.height = 0.52\n",
      "\tBungee: 77.24% bbox.left = 0.61, bbox.top = 0.48, bbox.width = 0.39, bbox.height = 0.52\n",
      "\tBungee: 37.54% bbox.left = 0.01, bbox.top = 0.01, bbox.width = 0.12, bbox.height = 0.73\n",
      "\tBungee: 13.23% bbox.left = 0.62, bbox.top = 0.31, bbox.width = 0.36, bbox.height = 0.69\n",
      "\tBungee: 8.37% bbox.left = 0.00, bbox.top = 0.52, bbox.width = 0.02, bbox.height = 0.25\n",
      "\tBungee: 7.16% bbox.left = 0.21, bbox.top = 0.42, bbox.width = 0.79, bbox.height = 0.58\n",
      "\tBungee: 4.59% bbox.left = 0.11, bbox.top = 0.23, bbox.width = 0.56, bbox.height = 0.77\n",
      "\tBungee: 3.28% bbox.left = 0.57, bbox.top = 0.15, bbox.width = 0.43, bbox.height = 0.83\n",
      "\tBungee: 1.39% bbox.left = 0.73, bbox.top = 0.89, bbox.width = 0.27, bbox.height = 0.11\n"
     ]
    }
   ],
   "source": [
    "with open(image_file, mode=\"rb\") as image_data:\n",
    "    results = predictor.detect_image(project_id, model_name, image_data)\n",
    "\n",
    "\n",
    "\n",
    "# Display the results.    \n",
    "for prediction in results.predictions:\n",
    "    print(\"\\t\" + prediction.tag_name + \\\n",
    "          \": {0:.2f}% bbox.left = {1:.2f}, bbox.top = {2:.2f}, bbox.width = {3:.2f}, bbox.height = {4:.2f}\".format(prediction.probability * 100, \\\n",
    "          prediction.bounding_box.left, prediction.bounding_box.top, prediction.bounding_box.width, prediction.bounding_box.height))"
   ]
  },
  {
   "attachments": {},
   "cell_type": "markdown",
   "metadata": {},
   "source": [
    "Create a figure for the results\n",
    "Display the image with boxes around each detected object"
   ]
  },
  {
   "cell_type": "code",
   "execution_count": null,
   "metadata": {},
   "outputs": [
    {
     "name": "stdout",
     "output_type": "stream",
     "text": [
      "Results saved in output.jpg\n"
     ]
    },
    {
     "ename": "",
     "evalue": "",
     "output_type": "error",
     "traceback": [
      "\u001b[1;31m'.venv (Python 3.8.10)'(으)로 셀을 실행하려면 ipykernel 패키지가 필요합니다.\n",
      "\u001b[1;31m다음 명령어를 실행하여 Python 환경에 'ipykernel'을(를) 설치합니다. \n",
      "\u001b[1;31m 명령: '/workspaces/PS16-5a035-FindBungee-Test/.venv/bin/python -m pip install ipykernel -U --force-reinstall'"
     ]
    }
   ],
   "source": [
    "fig = plt.figure(figsize=(8,8))\n",
    "plt.axis('off')\n",
    "\n",
    "draw = ImageDraw.Draw(image)\n",
    "lineWidth = int(w/100)\n",
    "color = 'magenta'\n",
    "\n",
    "for prediction in results. predictions:\n",
    "\n",
    "    if (prediction.probability*100) > 50:\n",
    "        left = prediction.bounding_box.left * w\n",
    "        top = prediction.bounding_box.top * h\n",
    "        width = prediction.bounding_box.width * w\n",
    "        height = prediction.bounding_box.height * h\n",
    "\n",
    "        points = ((left,top), (left+width,top), (left+width,top+height), (left,top+height),(left,top))\n",
    "        draw.line(points, fill=color, width=lineWidth)\n",
    "        plt.annotate(prediction.tag_name + ' {0:.2f}%'.format(prediction.probability * 100), (left, top), color=color)\n",
    "        \n",
    "plt.imshow(image)\n",
    "outputfile = 'output.jpg'\n",
    "fig. savefig(outputfile)\n",
    "print('Results saved in', outputfile)"
   ]
  }
 ],
 "metadata": {
  "kernelspec": {
   "display_name": ".venv",
   "language": "python",
   "name": "python3"
  },
  "language_info": {
   "codemirror_mode": {
    "name": "ipython",
    "version": 3
   },
   "file_extension": ".py",
   "mimetype": "text/x-python",
   "name": "python",
   "nbconvert_exporter": "python",
   "pygments_lexer": "ipython3",
   "version": "3.8.10"
  }
 },
 "nbformat": 4,
 "nbformat_minor": 2
}
